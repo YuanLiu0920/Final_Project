{
  "nbformat": 4,
  "nbformat_minor": 0,
  "metadata": {
    "colab": {
      "provenance": []
    },
    "kernelspec": {
      "name": "python3",
      "display_name": "Python 3"
    },
    "language_info": {
      "name": "python"
    }
  },
  "cells": [
    {
      "cell_type": "code",
      "execution_count": null,
      "metadata": {
        "id": "6A0q4q5m44Sr"
      },
      "outputs": [],
      "source": [
        "# Modeling Prediction\n",
        "#To evaluate model performance, I compare four regressors—Linear Regression, Decision Tree, K-Nearest Neighbors, and a Neural Network—using different combinations of four selected predictors identified in EDA. I also include a baseline model that predicts the mean life expectancy. Models are evaluated using R² and MSE.\n"
      ]
    },
    {
      "cell_type": "code",
      "source": [
        "# Import necessary libraries\n",
        "import pandas as pd\n",
        "import numpy as np\n",
        "from itertools import combinations\n",
        "from sklearn.model_selection import train_test_split, GridSearchCV\n",
        "from sklearn.pipeline import Pipeline\n",
        "from sklearn.preprocessing import StandardScaler\n",
        "from sklearn.metrics import mean_squared_error, r2_score\n",
        "\n",
        "from sklearn.linear_model import LinearRegression\n",
        "from sklearn.tree import DecisionTreeRegressor\n",
        "from sklearn.neighbors import KNeighborsRegressor\n",
        "from sklearn.neural_network import MLPRegressor\n"
      ],
      "metadata": {
        "id": "WtMY83iW5ebX"
      },
      "execution_count": 21,
      "outputs": []
    },
    {
      "cell_type": "code",
      "source": [
        "# Load and Prepare Data\n",
        "\n",
        "df = pd.read_csv(\"/content/Life Expectancy Data.csv\")\n",
        "\n",
        "# Filter for 2014 and rename columns\n",
        "df = df[df[\"Year\"] == 2014].copy()\n",
        "df = df.rename(columns={\n",
        "    \" thinness  1-19 years\": \"Thinness (1-19)\",\n",
        "    \" HIV/AIDS\": \"HIV/AIDS\",\n",
        "    \"Life expectancy \": \"LifeExpectancy\"\n",
        "})\n",
        "\n",
        "# Drop rows with missing values in selected columns\n",
        "df = df.dropna(subset=[\"Schooling\", \"Income composition of resources\", \"Thinness (1-19)\", \"HIV/AIDS\", \"LifeExpectancy\"])\n",
        "\n",
        "# Create an engineered feature\n",
        "df[\"Score_Edu_HIV\"] = df[\"Schooling\"] / df[\"HIV/AIDS\"]\n"
      ],
      "metadata": {
        "id": "Lywfy7se6Ngo"
      },
      "execution_count": 23,
      "outputs": []
    },
    {
      "cell_type": "code",
      "source": [
        "# Baseline Model\n",
        "\n",
        "# As a baseline, I predict the mean life expectancy for all test observations and compute the MSE.\n",
        "\n",
        "# Define target\n",
        "y = df[\"LifeExpectancy\"]\n",
        "\n",
        "# Predict mean\n",
        "baseline_preds = np.full(len(y), y.mean())\n",
        "baseline_mse = mean_squared_error(y, baseline_preds)\n",
        "print(f\"Baseline MSE: {baseline_mse:.2f}\")\n",
        "\n"
      ],
      "metadata": {
        "colab": {
          "base_uri": "https://localhost:8080/"
        },
        "id": "KH35DKUR6PTw",
        "outputId": "a89ee45f-1254-40bc-9711-abe1647e7c91"
      },
      "execution_count": 24,
      "outputs": [
        {
          "output_type": "stream",
          "name": "stdout",
          "text": [
            "Baseline MSE: 69.71\n"
          ]
        }
      ]
    },
    {
      "cell_type": "code",
      "source": [
        "### Define Features and Models\n"
      ],
      "metadata": {
        "id": "riPEJ2MW7IDB"
      },
      "execution_count": null,
      "outputs": []
    },
    {
      "cell_type": "code",
      "source": [
        "# Define predictors\n",
        "predictor_list = [\"Schooling\", \"Income composition of resources\", \"Thinness (1-19)\", \"Score_Edu_HIV\"]\n",
        "\n",
        "# Define models\n",
        "regression_models = {\n",
        "    \"Linear Regression\": LinearRegression(),\n",
        "    \"Decision Tree\": DecisionTreeRegressor(random_state=42),\n",
        "    \"KNN\": KNeighborsRegressor(),  # To tune later\n",
        "    \"Neural Network\": MLPRegressor(max_iter=1000, random_state=42)\n",
        "}\n"
      ],
      "metadata": {
        "id": "DnyzEBON7Q9D"
      },
      "execution_count": 25,
      "outputs": []
    },
    {
      "cell_type": "code",
      "source": [
        "# Model Evaluation Across Feature Combinations\n",
        "\n",
        "# Store evaluation results\n",
        "combo_model_results = []\n",
        "\n",
        "# Try every combination of 1 to 4 features\n",
        "for r in [1, 2, 3, 4]:\n",
        "    for combo in combinations(predictor_list, r):\n",
        "        X_subset = df[list(combo)]\n",
        "        X_train, X_test, y_train, y_test = train_test_split(X_subset, y, test_size=0.2, random_state=42)\n",
        "\n",
        "        for model_name, model in regression_models.items():\n",
        "            pipe = Pipeline([\n",
        "                (\"scaler\", StandardScaler()),\n",
        "                (\"model\", model)\n",
        "            ])\n",
        "            pipe.fit(X_train, y_train)\n",
        "            y_pred = pipe.predict(X_test)\n",
        "\n",
        "            mse = mean_squared_error(y_test, y_pred)\n",
        "            r2 = r2_score(y_test, y_pred)\n",
        "\n",
        "            combo_model_results.append({\n",
        "                \"Model\": model_name,\n",
        "                \"Features\": combo,\n",
        "                \"R2 Score\": r2,\n",
        "                \"MSE\": mse\n",
        "            })\n"
      ],
      "metadata": {
        "colab": {
          "base_uri": "https://localhost:8080/"
        },
        "id": "vO9OyHGAImq3",
        "outputId": "b91734e8-205e-4c1d-a8a2-38d538fe0235"
      },
      "execution_count": 27,
      "outputs": [
        {
          "output_type": "stream",
          "name": "stderr",
          "text": [
            "/usr/local/lib/python3.11/dist-packages/sklearn/neural_network/_multilayer_perceptron.py:691: ConvergenceWarning: Stochastic Optimizer: Maximum iterations (1000) reached and the optimization hasn't converged yet.\n",
            "  warnings.warn(\n",
            "/usr/local/lib/python3.11/dist-packages/sklearn/neural_network/_multilayer_perceptron.py:691: ConvergenceWarning: Stochastic Optimizer: Maximum iterations (1000) reached and the optimization hasn't converged yet.\n",
            "  warnings.warn(\n",
            "/usr/local/lib/python3.11/dist-packages/sklearn/neural_network/_multilayer_perceptron.py:691: ConvergenceWarning: Stochastic Optimizer: Maximum iterations (1000) reached and the optimization hasn't converged yet.\n",
            "  warnings.warn(\n",
            "/usr/local/lib/python3.11/dist-packages/sklearn/neural_network/_multilayer_perceptron.py:691: ConvergenceWarning: Stochastic Optimizer: Maximum iterations (1000) reached and the optimization hasn't converged yet.\n",
            "  warnings.warn(\n",
            "/usr/local/lib/python3.11/dist-packages/sklearn/neural_network/_multilayer_perceptron.py:691: ConvergenceWarning: Stochastic Optimizer: Maximum iterations (1000) reached and the optimization hasn't converged yet.\n",
            "  warnings.warn(\n",
            "/usr/local/lib/python3.11/dist-packages/sklearn/neural_network/_multilayer_perceptron.py:691: ConvergenceWarning: Stochastic Optimizer: Maximum iterations (1000) reached and the optimization hasn't converged yet.\n",
            "  warnings.warn(\n",
            "/usr/local/lib/python3.11/dist-packages/sklearn/neural_network/_multilayer_perceptron.py:691: ConvergenceWarning: Stochastic Optimizer: Maximum iterations (1000) reached and the optimization hasn't converged yet.\n",
            "  warnings.warn(\n",
            "/usr/local/lib/python3.11/dist-packages/sklearn/neural_network/_multilayer_perceptron.py:691: ConvergenceWarning: Stochastic Optimizer: Maximum iterations (1000) reached and the optimization hasn't converged yet.\n",
            "  warnings.warn(\n",
            "/usr/local/lib/python3.11/dist-packages/sklearn/neural_network/_multilayer_perceptron.py:691: ConvergenceWarning: Stochastic Optimizer: Maximum iterations (1000) reached and the optimization hasn't converged yet.\n",
            "  warnings.warn(\n",
            "/usr/local/lib/python3.11/dist-packages/sklearn/neural_network/_multilayer_perceptron.py:691: ConvergenceWarning: Stochastic Optimizer: Maximum iterations (1000) reached and the optimization hasn't converged yet.\n",
            "  warnings.warn(\n",
            "/usr/local/lib/python3.11/dist-packages/sklearn/neural_network/_multilayer_perceptron.py:691: ConvergenceWarning: Stochastic Optimizer: Maximum iterations (1000) reached and the optimization hasn't converged yet.\n",
            "  warnings.warn(\n",
            "/usr/local/lib/python3.11/dist-packages/sklearn/neural_network/_multilayer_perceptron.py:691: ConvergenceWarning: Stochastic Optimizer: Maximum iterations (1000) reached and the optimization hasn't converged yet.\n",
            "  warnings.warn(\n",
            "/usr/local/lib/python3.11/dist-packages/sklearn/neural_network/_multilayer_perceptron.py:691: ConvergenceWarning: Stochastic Optimizer: Maximum iterations (1000) reached and the optimization hasn't converged yet.\n",
            "  warnings.warn(\n",
            "/usr/local/lib/python3.11/dist-packages/sklearn/neural_network/_multilayer_perceptron.py:691: ConvergenceWarning: Stochastic Optimizer: Maximum iterations (1000) reached and the optimization hasn't converged yet.\n",
            "  warnings.warn(\n",
            "/usr/local/lib/python3.11/dist-packages/sklearn/neural_network/_multilayer_perceptron.py:691: ConvergenceWarning: Stochastic Optimizer: Maximum iterations (1000) reached and the optimization hasn't converged yet.\n",
            "  warnings.warn(\n"
          ]
        }
      ]
    },
    {
      "cell_type": "code",
      "source": [
        "# Top Performing Combinations\n",
        "\n",
        "# Create DataFrame of results\n",
        "results_df = pd.DataFrame(combo_model_results).sort_values(by=\"R2 Score\", ascending=False).reset_index(drop=True)\n",
        "\n",
        "# Display top 10\n",
        "pd.set_option('display.max_colwidth', None)\n",
        "pd.set_option('display.max_columns', None)\n",
        "pd.set_option('display.width', 0)\n",
        "\n",
        "print(\"Top performing model/feature combos (before tuning):\\n\")\n",
        "print(results_df.head(10))\n"
      ],
      "metadata": {
        "colab": {
          "base_uri": "https://localhost:8080/"
        },
        "id": "vB7VjXUeIrLa",
        "outputId": "79e5b99f-7ac6-49fd-8b6d-24601898e522"
      },
      "execution_count": 28,
      "outputs": [
        {
          "output_type": "stream",
          "name": "stdout",
          "text": [
            "Top performing model/feature combos (before tuning):\n",
            "\n",
            "               Model  \\\n",
            "0                KNN   \n",
            "1                KNN   \n",
            "2                KNN   \n",
            "3      Decision Tree   \n",
            "4                KNN   \n",
            "5  Linear Regression   \n",
            "6  Linear Regression   \n",
            "7      Decision Tree   \n",
            "8      Decision Tree   \n",
            "9  Linear Regression   \n",
            "\n",
            "                                                                       Features  \\\n",
            "0                              (Income composition of resources, Score_Edu_HIV)   \n",
            "1                   (Schooling, Income composition of resources, Score_Edu_HIV)   \n",
            "2  (Schooling, Income composition of resources, Thinness (1-19), Score_Edu_HIV)   \n",
            "3                   (Schooling, Income composition of resources, Score_Edu_HIV)   \n",
            "4             (Income composition of resources, Thinness (1-19), Score_Edu_HIV)   \n",
            "5                              (Income composition of resources, Score_Edu_HIV)   \n",
            "6                   (Schooling, Income composition of resources, Score_Edu_HIV)   \n",
            "7  (Schooling, Income composition of resources, Thinness (1-19), Score_Edu_HIV)   \n",
            "8             (Income composition of resources, Thinness (1-19), Score_Edu_HIV)   \n",
            "9                                                    (Schooling, Score_Edu_HIV)   \n",
            "\n",
            "   R2 Score        MSE  \n",
            "0  0.847681  13.282160  \n",
            "1  0.847380  13.308434  \n",
            "2  0.838090  14.118560  \n",
            "3  0.832588  14.598286  \n",
            "4  0.812745  16.328617  \n",
            "5  0.800010  17.439069  \n",
            "6  0.799567  17.477705  \n",
            "7  0.795416  17.839714  \n",
            "8  0.791546  18.177143  \n",
            "9  0.781952  19.013716  \n"
          ]
        }
      ]
    },
    {
      "cell_type": "code",
      "source": [
        "# Extract top model info\n",
        "top_combo = results_df.loc[0]\n",
        "best_features = list(top_combo[\"Features\"])\n",
        "print(f\"\\nSelected for GridSearchCV: {top_combo['Model']} with features {best_features}\")"
      ],
      "metadata": {
        "colab": {
          "base_uri": "https://localhost:8080/"
        },
        "id": "5sUeMidyNPzb",
        "outputId": "12afbac6-67e8-4a95-9811-95f331fcc500"
      },
      "execution_count": 32,
      "outputs": [
        {
          "output_type": "stream",
          "name": "stdout",
          "text": [
            "\n",
            "Selected for GridSearchCV: KNN with features ['Income composition of resources', 'Score_Edu_HIV']\n"
          ]
        }
      ]
    },
    {
      "cell_type": "code",
      "source": [
        "# Since KNN is the best model here, we need to find out best k and adjust further\n",
        "X_best = df[best_features]\n",
        "X_train, X_test, y_train, y_test = train_test_split(X_best, y, test_size=0.2, random_state=42)\n",
        "\n",
        "knn_pipeline = Pipeline([\n",
        "    (\"scaler\", StandardScaler()),\n",
        "    (\"model\", KNeighborsRegressor())\n",
        "    ])\n",
        "param_grid = {\"model__n_neighbors\": list(range(1, 21))}\n",
        "grid_search = GridSearchCV(knn_pipeline, param_grid, cv=5, scoring='r2')\n",
        "grid_search.fit(X_train, y_train)\n",
        "best_k = grid_search.best_params_[\"model__n_neighbors\"]\n",
        "best_cv_r2 = grid_search.best_score_\n",
        "\n",
        "# Evaluate on test set using best estimator\n",
        "best_knn_model = grid_search.best_estimator_\n",
        "test_preds = best_knn_model.predict(X_test)\n",
        "test_mse = mean_squared_error(y_test, test_preds)\n",
        "\n",
        "print(f\"\\nGridSearchCV Result for KNN:\")\n",
        "print(f\"Best k: {best_k}\")\n",
        "print(f\"Cross-validated R²: {best_cv_r2:.4f}\")\n",
        "print(f\"Test Set MSE: {test_mse:.2f}\")\n"
      ],
      "metadata": {
        "colab": {
          "base_uri": "https://localhost:8080/"
        },
        "id": "YhatRSn8NW0Y",
        "outputId": "851f1df7-6e64-42d1-9160-9308d20abfaf"
      },
      "execution_count": 35,
      "outputs": [
        {
          "output_type": "stream",
          "name": "stdout",
          "text": [
            "\n",
            "GridSearchCV Result for KNN:\n",
            "Best k: 4\n",
            "Cross-validated R²: 0.8320\n",
            "Test Set MSE: 13.88\n"
          ]
        }
      ]
    },
    {
      "cell_type": "code",
      "source": [
        "### Interpretation\n",
        "\n",
        "# Linear models generally performed well, but models like KNN and decision trees captured non-linear interactions. The best-performing configuration used a KNN model with 2 features, outperforming the baseline significantly. GridSearchCV revealed the optimal number of neighbors for the KNN model, reinforcing the model's ability to adapt to local data structure.\n"
      ],
      "metadata": {
        "id": "8euz3dDUN8hi"
      },
      "execution_count": null,
      "outputs": []
    }
  ]
}
